{
 "cells": [
  {
   "cell_type": "code",
   "execution_count": 62,
   "metadata": {},
   "outputs": [],
   "source": [
    "import pandas as pd\n",
    "import numpy as np\n",
    "import warnings\n",
    "warnings.filterwarnings('ignore')"
   ]
  },
  {
   "cell_type": "code",
   "execution_count": 100,
   "metadata": {},
   "outputs": [],
   "source": [
    "# Turns the event timestamp hour into a daily tick number (ex: 00:15 -> 1, 1:30 -> 6, etc..)\n",
    "def date_to_daytick(date):\n",
    "    hour = date[8:10]\n",
    "    minutes = date[10:12]\n",
    "    return int(4*int(hour) + int(minutes)/15)\n",
    "\n",
    "# Takes a csv file containing event rows from the EVENT gdelt table and produces a smaller dataframe with only the necessary cols\n",
    "def refine_events(filename):\n",
    "    # Read file and create refined df\n",
    "    df_events = pd.read_csv(filename, encoding='utf-8')\n",
    "    df_refined = df_events[['GLOBALEVENTID']]\n",
    "    \n",
    "    # Date and time\n",
    "    df_refined['Year'] = df_events['SQLDATE'].map(lambda x : str(x)[0:4])\n",
    "    df_refined['Month'] = df_events['SQLDATE'].map(lambda x : str(x)[4:6])\n",
    "    df_refined['Day'] = df_events['SQLDATE'].map(lambda x : str(x)[6:8])\n",
    "    df_refined['DayTick'] = df_events['DATEADDED'].map(lambda x : date_to_daytick(str(x)))\n",
    "      \n",
    "    # Other relevant cols\n",
    "    relevant_event_cols = ['Actor1Geo_CountryCode', 'Actor1Geo_Lat', 'Actor1Geo_Long', 'Actor2Geo_CountryCode', 'Actor2Geo_Lat', 'Actor2Geo_Long', 'NumMentions', 'NumSources', 'NumArticles']\n",
    "    df_refined[relevant_event_cols] = df_events[relevant_event_cols]\n",
    "\n",
    "    return df_refined\n",
    "\n",
    "# Takes a csv file containing mention rows from the MENTIONS gdelt table and produces a smaller dataframe with only the necessary cols\n",
    "def refine_mentions(filename):\n",
    "    # Read file and create refined df\n",
    "    df_mentions = pd.read_csv(filename, encoding='utf-8')\n",
    "    df_refined = df_mentions[['GLOBALEVENTID']]\n",
    "    \n",
    "    # Date and time\n",
    "    df_refined['Year'] = df_mentions['MentionTimeDate'].map(lambda x : str(x)[0:4])\n",
    "    df_refined['Month'] = df_mentions['MentionTimeDate'].map(lambda x : str(x)[4:6])\n",
    "    df_refined['Day'] = df_mentions['MentionTimeDate'].map(lambda x : str(x)[6:8])\n",
    "    df_refined['DayTick'] = df_mentions['MentionTimeDate'].map(lambda x : date_to_daytick(str(x)))\n",
    "    \n",
    "    # Other relevant cols\n",
    "    df_refined['Source'] = df_mentions['MentionSourceName']\n",
    "\n",
    "    return df_refined\n",
    "\n",
    "# Writes the reduced events dataframe to a .js file as an object, which will be directly used by the visualization\n",
    "def write_events(df, filename):\n",
    "    with open(filename, 'w') as file:\n",
    "        file.write(\"var events = {\\n\")\n",
    "\n",
    "        for index, row in df.iterrows():\n",
    "            file.write(\"\\t \" + str(row['GLOBALEVENTID']) + \n",
    "                       \": { 'year':\" + str(row['Year']) +\n",
    "                       \", 'month':\" + str(row['Month']) + \n",
    "                       \", 'day':\" + str(row['Day']) + \n",
    "                       \", 'tick':\" + str(row['DayTick']) +\n",
    "                       \", 'country_1':'\" + str(row['Actor1Geo_CountryCode']) +\n",
    "                       \"', 'lat_1':'\" + str(row['Actor1Geo_Lat']) +\n",
    "                       \"', 'long_1':'\" + str(row['Actor1Geo_Long']) +\n",
    "                       \"', 'country_2':'\" + str(row['Actor2Geo_CountryCode']) +\n",
    "                       \"', 'lat_2':'\" + str(row['Actor2Geo_Lat']) +\n",
    "                       \"', 'long_2':'\" + str(row['Actor2Geo_Long']) +\n",
    "                       \"', 'mentions':\" + str(row['NumMentions']) +\n",
    "                       \", 'sources':\" + str(row['NumSources']) +\n",
    "                       \", 'articles':\" + str(row['NumArticles']) + \"}\")\n",
    "            if (index == df.shape[0]-1):\n",
    "                file.write(\"\\n\")\n",
    "            else:\n",
    "                file.write(\",\\n\")\n",
    "\n",
    "        file.write(\"};\")\n",
    "\n",
    "# Writes the reduced events dataframe to a .js file as an object, which will be directly used by the visualization\n",
    "def write_mentions(df, filename):\n",
    "    with open(filename, 'w') as file:\n",
    "        file.write(\"var mentions = {\\n\")\n",
    "\n",
    "        for index, row in df.iterrows():\n",
    "            file.write(\"\\t \" + str(row['GLOBALEVENTID']) + \n",
    "                       \": { 'year':\" + str(row['Year']) +\n",
    "                       \", 'month':\" + str(row['Month']) + \n",
    "                       \", 'day':\" + str(row['Day']) + \n",
    "                       \", 'tick':\" + str(row['DayTick']) +\n",
    "                       \", 'source':'\" + str(row['Source']) + \"'}\")\n",
    "            if (index == df.shape[0]-1):\n",
    "                file.write(\"\\n\")\n",
    "            else:\n",
    "                file.write(\",\\n\")\n",
    "\n",
    "        file.write(\"};\")"
   ]
  },
  {
   "cell_type": "code",
   "execution_count": 101,
   "metadata": {},
   "outputs": [],
   "source": [
    "df_new_E = refine_events('20181025_15000_E.csv')\n",
    "df_new_M = refine_mentions('20181025_15000_M.csv')"
   ]
  },
  {
   "cell_type": "code",
   "execution_count": 102,
   "metadata": {},
   "outputs": [],
   "source": [
    "write_mentions(df_new_M, './../mentions.js')\n",
    "write_events(df_new_E, './../events.js')"
   ]
  },
  {
   "cell_type": "code",
   "execution_count": null,
   "metadata": {},
   "outputs": [],
   "source": []
  }
 ],
 "metadata": {
  "kernelspec": {
   "display_name": "Python 3",
   "language": "python",
   "name": "python3"
  },
  "language_info": {
   "codemirror_mode": {
    "name": "ipython",
    "version": 3
   },
   "file_extension": ".py",
   "mimetype": "text/x-python",
   "name": "python",
   "nbconvert_exporter": "python",
   "pygments_lexer": "ipython3",
   "version": "3.7.0"
  }
 },
 "nbformat": 4,
 "nbformat_minor": 2
}
