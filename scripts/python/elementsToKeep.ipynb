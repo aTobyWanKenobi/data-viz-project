{
 "cells": [
  {
   "cell_type": "code",
   "execution_count": 1,
   "metadata": {},
   "outputs": [],
   "source": [
    "import pandas as pd\n",
    "import matplotlib.pyplot as plt"
   ]
  },
  {
   "cell_type": "code",
   "execution_count": 2,
   "metadata": {},
   "outputs": [],
   "source": [
    "# Read all mentions\n",
    "base_path = \"./../../data/gdelt/mentions/\"\n",
    "day = \"20181105\"\n",
    "\n",
    "mins = ['00', '15', '30', '45']\n",
    "\n",
    "mention_dataframes = []\n",
    "for h in [\"%.2d\" % i for i in range(24)]:\n",
    "    for m in mins:\n",
    "        df = pd.read_json(base_path + day + h + m + '00.json', orient='records')\n",
    "        mention_dataframes.append(df)\n",
    "\n",
    "mentions = pd.concat(mention_dataframes, axis = 0, ignore_index = True)"
   ]
  },
  {
   "cell_type": "code",
   "execution_count": 3,
   "metadata": {},
   "outputs": [
    {
     "data": {
      "text/html": [
       "<div>\n",
       "<style scoped>\n",
       "    .dataframe tbody tr th:only-of-type {\n",
       "        vertical-align: middle;\n",
       "    }\n",
       "\n",
       "    .dataframe tbody tr th {\n",
       "        vertical-align: top;\n",
       "    }\n",
       "\n",
       "    .dataframe thead th {\n",
       "        text-align: right;\n",
       "    }\n",
       "</style>\n",
       "<table border=\"1\" class=\"dataframe\">\n",
       "  <thead>\n",
       "    <tr style=\"text-align: right;\">\n",
       "      <th></th>\n",
       "      <th>EventTimeDate</th>\n",
       "      <th>GLOBALEVENTID</th>\n",
       "      <th>MentionIdentifier</th>\n",
       "      <th>MentionSourceName</th>\n",
       "      <th>MentionTimeDate</th>\n",
       "      <th>MentionType</th>\n",
       "    </tr>\n",
       "  </thead>\n",
       "  <tbody>\n",
       "    <tr>\n",
       "      <th>0</th>\n",
       "      <td>20181105000000</td>\n",
       "      <td>800011820</td>\n",
       "      <td>https://www.stamfordadvocate.com/news/world/ar...</td>\n",
       "      <td>stamfordadvocate.com</td>\n",
       "      <td>20181105000000</td>\n",
       "      <td>1</td>\n",
       "    </tr>\n",
       "    <tr>\n",
       "      <th>1</th>\n",
       "      <td>20181105000000</td>\n",
       "      <td>800011821</td>\n",
       "      <td>https://www.stamfordadvocate.com/news/world/ar...</td>\n",
       "      <td>stamfordadvocate.com</td>\n",
       "      <td>20181105000000</td>\n",
       "      <td>1</td>\n",
       "    </tr>\n",
       "    <tr>\n",
       "      <th>2</th>\n",
       "      <td>20181105000000</td>\n",
       "      <td>800011822</td>\n",
       "      <td>https://www.stamfordadvocate.com/news/world/ar...</td>\n",
       "      <td>stamfordadvocate.com</td>\n",
       "      <td>20181105000000</td>\n",
       "      <td>1</td>\n",
       "    </tr>\n",
       "    <tr>\n",
       "      <th>3</th>\n",
       "      <td>20181105000000</td>\n",
       "      <td>800011823</td>\n",
       "      <td>https://www.stamfordadvocate.com/news/world/ar...</td>\n",
       "      <td>stamfordadvocate.com</td>\n",
       "      <td>20181105000000</td>\n",
       "      <td>1</td>\n",
       "    </tr>\n",
       "    <tr>\n",
       "      <th>4</th>\n",
       "      <td>20181105000000</td>\n",
       "      <td>800011824</td>\n",
       "      <td>https://www.stamfordadvocate.com/news/world/ar...</td>\n",
       "      <td>stamfordadvocate.com</td>\n",
       "      <td>20181105000000</td>\n",
       "      <td>1</td>\n",
       "    </tr>\n",
       "  </tbody>\n",
       "</table>\n",
       "</div>"
      ],
      "text/plain": [
       "    EventTimeDate  GLOBALEVENTID  \\\n",
       "0  20181105000000      800011820   \n",
       "1  20181105000000      800011821   \n",
       "2  20181105000000      800011822   \n",
       "3  20181105000000      800011823   \n",
       "4  20181105000000      800011824   \n",
       "\n",
       "                                   MentionIdentifier     MentionSourceName  \\\n",
       "0  https://www.stamfordadvocate.com/news/world/ar...  stamfordadvocate.com   \n",
       "1  https://www.stamfordadvocate.com/news/world/ar...  stamfordadvocate.com   \n",
       "2  https://www.stamfordadvocate.com/news/world/ar...  stamfordadvocate.com   \n",
       "3  https://www.stamfordadvocate.com/news/world/ar...  stamfordadvocate.com   \n",
       "4  https://www.stamfordadvocate.com/news/world/ar...  stamfordadvocate.com   \n",
       "\n",
       "   MentionTimeDate  MentionType  \n",
       "0   20181105000000            1  \n",
       "1   20181105000000            1  \n",
       "2   20181105000000            1  \n",
       "3   20181105000000            1  \n",
       "4   20181105000000            1  "
      ]
     },
     "execution_count": 3,
     "metadata": {},
     "output_type": "execute_result"
    }
   ],
   "source": [
    "mentions.head(5)"
   ]
  },
  {
   "cell_type": "code",
   "execution_count": 4,
   "metadata": {},
   "outputs": [],
   "source": [
    "by_source = mentions[['MentionSourceName', 'MentionTimeDate']].groupby('MentionSourceName').count()\n",
    "by_source.columns = ['MentionsCount']\n",
    "by_source.sort_values('MentionsCount', ascending=False, inplace=True)"
   ]
  },
  {
   "cell_type": "code",
   "execution_count": 5,
   "metadata": {},
   "outputs": [
    {
     "name": "stdout",
     "output_type": "stream",
     "text": [
      "Total mentions in original day :  359058\n",
      "Total sources in original day :  7367\n"
     ]
    }
   ],
   "source": [
    "# Some analytics about mentions\n",
    "print(\"Total mentions in original day : \", mentions.shape[0])\n",
    "print(\"Total sources in original day : \", by_source.shape[0])"
   ]
  },
  {
   "cell_type": "code",
   "execution_count": 6,
   "metadata": {},
   "outputs": [],
   "source": [
    "# Filter mentions by sources above threshold\n",
    "keptSources = pd.Series(by_source[by_source.MentionsCount >= 25].index)\n",
    "keptMentions = mentions[mentions.MentionSourceName.isin(keptSources)]"
   ]
  },
  {
   "cell_type": "code",
   "execution_count": 7,
   "metadata": {},
   "outputs": [
    {
     "name": "stdout",
     "output_type": "stream",
     "text": [
      "Total mentions in original day :  325877\n",
      "Total sources in original day :  2709\n"
     ]
    }
   ],
   "source": [
    "# Some analytics about mentions\n",
    "print(\"Total mentions in original day : \", keptMentions.shape[0])\n",
    "print(\"Total sources in original day : \", keptSources.size)"
   ]
  },
  {
   "cell_type": "code",
   "execution_count": 8,
   "metadata": {},
   "outputs": [
    {
     "data": {
      "text/html": [
       "<div>\n",
       "<style scoped>\n",
       "    .dataframe tbody tr th:only-of-type {\n",
       "        vertical-align: middle;\n",
       "    }\n",
       "\n",
       "    .dataframe tbody tr th {\n",
       "        vertical-align: top;\n",
       "    }\n",
       "\n",
       "    .dataframe thead th {\n",
       "        text-align: right;\n",
       "    }\n",
       "</style>\n",
       "<table border=\"1\" class=\"dataframe\">\n",
       "  <thead>\n",
       "    <tr style=\"text-align: right;\">\n",
       "      <th></th>\n",
       "      <th>EventTimeDate</th>\n",
       "      <th>GLOBALEVENTID</th>\n",
       "      <th>MentionIdentifier</th>\n",
       "      <th>MentionSourceName</th>\n",
       "      <th>MentionTimeDate</th>\n",
       "      <th>MentionType</th>\n",
       "    </tr>\n",
       "  </thead>\n",
       "  <tbody>\n",
       "    <tr>\n",
       "      <th>0</th>\n",
       "      <td>20181105000000</td>\n",
       "      <td>800011820</td>\n",
       "      <td>https://www.stamfordadvocate.com/news/world/ar...</td>\n",
       "      <td>stamfordadvocate.com</td>\n",
       "      <td>20181105000000</td>\n",
       "      <td>1</td>\n",
       "    </tr>\n",
       "    <tr>\n",
       "      <th>1</th>\n",
       "      <td>20181105000000</td>\n",
       "      <td>800011821</td>\n",
       "      <td>https://www.stamfordadvocate.com/news/world/ar...</td>\n",
       "      <td>stamfordadvocate.com</td>\n",
       "      <td>20181105000000</td>\n",
       "      <td>1</td>\n",
       "    </tr>\n",
       "    <tr>\n",
       "      <th>2</th>\n",
       "      <td>20181105000000</td>\n",
       "      <td>800011822</td>\n",
       "      <td>https://www.stamfordadvocate.com/news/world/ar...</td>\n",
       "      <td>stamfordadvocate.com</td>\n",
       "      <td>20181105000000</td>\n",
       "      <td>1</td>\n",
       "    </tr>\n",
       "  </tbody>\n",
       "</table>\n",
       "</div>"
      ],
      "text/plain": [
       "    EventTimeDate  GLOBALEVENTID  \\\n",
       "0  20181105000000      800011820   \n",
       "1  20181105000000      800011821   \n",
       "2  20181105000000      800011822   \n",
       "\n",
       "                                   MentionIdentifier     MentionSourceName  \\\n",
       "0  https://www.stamfordadvocate.com/news/world/ar...  stamfordadvocate.com   \n",
       "1  https://www.stamfordadvocate.com/news/world/ar...  stamfordadvocate.com   \n",
       "2  https://www.stamfordadvocate.com/news/world/ar...  stamfordadvocate.com   \n",
       "\n",
       "   MentionTimeDate  MentionType  \n",
       "0   20181105000000            1  \n",
       "1   20181105000000            1  \n",
       "2   20181105000000            1  "
      ]
     },
     "execution_count": 8,
     "metadata": {},
     "output_type": "execute_result"
    }
   ],
   "source": [
    "keptMentions.head(3)"
   ]
  },
  {
   "cell_type": "code",
   "execution_count": 11,
   "metadata": {},
   "outputs": [],
   "source": [
    "# Analyze events now\n",
    "by_event = keptMentions[['GLOBALEVENTID', 'MentionIdentifier']].groupby('GLOBALEVENTID').count()\n",
    "by_event.columns = ['EventCount']\n",
    "by_event.sort_values('EventCount', ascending=False, inplace=True)"
   ]
  },
  {
   "cell_type": "code",
   "execution_count": 19,
   "metadata": {},
   "outputs": [],
   "source": [
    "keptEvents = pd.Series(by_event[by_event.EventCount > 1].index)"
   ]
  },
  {
   "cell_type": "code",
   "execution_count": 21,
   "metadata": {},
   "outputs": [],
   "source": [
    "keptEvents.to_csv(\"./../../data/gdelt/keptEvents.csv\", encoding='utf-8')"
   ]
  },
  {
   "cell_type": "code",
   "execution_count": 22,
   "metadata": {},
   "outputs": [],
   "source": [
    "keptSources.to_csv(\"./../../data/gdelt/keptSources.csv\", encoding='utf-8')"
   ]
  },
  {
   "cell_type": "code",
   "execution_count": 27,
   "metadata": {},
   "outputs": [],
   "source": [
    "test = pd.read_csv(\"./../../data/gdelt/keptEvents.csv\", encoding='utf-8', header=None, names=['ID'])"
   ]
  },
  {
   "cell_type": "code",
   "execution_count": 29,
   "metadata": {},
   "outputs": [
    {
     "data": {
      "text/plain": [
       "0        800045540\n",
       "1        800046143\n",
       "2        800046045\n",
       "3        800046140\n",
       "4        800046049\n",
       "5        800045545\n",
       "6        800045371\n",
       "7        800016943\n",
       "8        800016942\n",
       "9        800064086\n",
       "10       800064085\n",
       "11       800045408\n",
       "12       800045370\n",
       "13       800065238\n",
       "14       800076747\n",
       "15       800020569\n",
       "16       800064038\n",
       "17       800064039\n",
       "18       800064042\n",
       "19       800034033\n",
       "20       800034109\n",
       "21       800040140\n",
       "22       800064046\n",
       "23       800039543\n",
       "24       800079398\n",
       "25       800155492\n",
       "26       800014574\n",
       "27       800014571\n",
       "28       800013639\n",
       "29       800019320\n",
       "           ...    \n",
       "27867    800238932\n",
       "27868    800012901\n",
       "27869    800186095\n",
       "27870    800186151\n",
       "27871    800169260\n",
       "27872    800142446\n",
       "27873    800012986\n",
       "27874    800169248\n",
       "27875    800244771\n",
       "27876    800269667\n",
       "27877    800018789\n",
       "27878    800167019\n",
       "27879    800064121\n",
       "27880    800019084\n",
       "27881    800064007\n",
       "27882    800169247\n",
       "27883    800184217\n",
       "27884    800184358\n",
       "27885    800142445\n",
       "27886    800169188\n",
       "27887    800142599\n",
       "27888    800055770\n",
       "27889    800018793\n",
       "27890    800169255\n",
       "27891    800019135\n",
       "27892    800142455\n",
       "27893    800013153\n",
       "27894    800162598\n",
       "27895    800064120\n",
       "27896    800246128\n",
       "Name: GLOBALEVENTID, Length: 27897, dtype: int64"
      ]
     },
     "execution_count": 29,
     "metadata": {},
     "output_type": "execute_result"
    }
   ],
   "source": [
    "keptEvents"
   ]
  },
  {
   "cell_type": "code",
   "execution_count": null,
   "metadata": {},
   "outputs": [],
   "source": []
  }
 ],
 "metadata": {
  "kernelspec": {
   "display_name": "Python 3",
   "language": "python",
   "name": "python3"
  },
  "language_info": {
   "codemirror_mode": {
    "name": "ipython",
    "version": 3
   },
   "file_extension": ".py",
   "mimetype": "text/x-python",
   "name": "python",
   "nbconvert_exporter": "python",
   "pygments_lexer": "ipython3",
   "version": "3.7.0"
  }
 },
 "nbformat": 4,
 "nbformat_minor": 2
}
